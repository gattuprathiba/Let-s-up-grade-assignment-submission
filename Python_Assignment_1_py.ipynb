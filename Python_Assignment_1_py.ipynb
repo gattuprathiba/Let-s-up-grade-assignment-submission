{
  "nbformat": 4,
  "nbformat_minor": 0,
  "metadata": {
    "colab": {
      "name": "Python_Assignment-1.py",
      "provenance": [],
      "authorship_tag": "ABX9TyNgytEPLSw7KZF6ZFYY1jCO",
      "include_colab_link": true
    },
    "kernelspec": {
      "name": "python3",
      "display_name": "Python 3"
    },
    "language_info": {
      "name": "python"
    }
  },
  "cells": [
    {
      "cell_type": "markdown",
      "metadata": {
        "id": "view-in-github",
        "colab_type": "text"
      },
      "source": [
        "<a href=\"https://colab.research.google.com/github/gattuprathiba/Let-s-up-grade-assignment-submission/blob/main/Python_Assignment_1_py.ipynb\" target=\"_parent\"><img src=\"https://colab.research.google.com/assets/colab-badge.svg\" alt=\"Open In Colab\"/></a>"
      ]
    },
    {
      "cell_type": "markdown",
      "metadata": {
        "id": "bx35btFaSbjK"
      },
      "source": [
        "ASSIGNMENT-1 let's up grade\n",
        "1.PROJECT ON CALUCULATOR"
      ]
    },
    {
      "cell_type": "code",
      "metadata": {
        "colab": {
          "base_uri": "https://localhost:8080/"
        },
        "id": "rb8RkUgvS5a1",
        "outputId": "4dfa737b-9950-4e3b-9b1d-97292f8c2d42"
      },
      "source": [
        "#Building addition \n",
        " #  subtraction \n",
        "#multiplication and\n",
        "#   division for caluculator\n",
        "a=int(input(\"Enter the first number \"))\n",
        "b=int(input(\"Enter the second number \"))\n",
        "add=a+b\n",
        "print(add)\n",
        "sub=a-b\n",
        "print(sub)\n",
        "mul=a*b\n",
        "print(mul)\n",
        "div=a/b\n",
        "print(int(div))"
      ],
      "execution_count": 4,
      "outputs": [
        {
          "output_type": "stream",
          "text": [
            "Enter the first number 6\n",
            "Enter the second number 5\n",
            "11\n",
            "1\n",
            "30\n",
            "1\n"
          ],
          "name": "stdout"
        }
      ]
    }
  ]
}