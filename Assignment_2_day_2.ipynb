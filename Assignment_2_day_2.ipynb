{
  "nbformat": 4,
  "nbformat_minor": 0,
  "metadata": {
    "colab": {
      "name": "Assignment-2 day-2.ipynb",
      "provenance": [],
      "authorship_tag": "ABX9TyN/pgJ/+YRGrvChcwca19eS",
      "include_colab_link": true
    },
    "kernelspec": {
      "name": "python3",
      "display_name": "Python 3"
    },
    "language_info": {
      "name": "python"
    }
  },
  "cells": [
    {
      "cell_type": "markdown",
      "metadata": {
        "id": "view-in-github",
        "colab_type": "text"
      },
      "source": [
        "<a href=\"https://colab.research.google.com/github/gattuprathiba/Let-s-up-grade-assignment-submission/blob/main/Assignment_2_day_2.ipynb\" target=\"_parent\"><img src=\"https://colab.research.google.com/assets/colab-badge.svg\" alt=\"Open In Colab\"/></a>"
      ]
    },
    {
      "cell_type": "markdown",
      "metadata": {
        "id": "BOzQFexFsKUx"
      },
      "source": [
        "Project-2: Get random names of the people in the list using For loop, Maxmium  participant variable and input() function and then get your lottery run "
      ]
    },
    {
      "cell_type": "code",
      "metadata": {
        "colab": {
          "base_uri": "https://localhost:8080/"
        },
        "id": "S_xwIOelt_9v",
        "outputId": "2fcc8ad0-b778-4fb2-90eb-256d197b5e81"
      },
      "source": [
        "#importing a random module\n",
        "import random\n",
        "MaxTicketsAvailable=int(input(\"Enter no of lottery tickets available \"))\n",
        "#creating a list\n",
        "p=[]\n",
        "#taking input from the user using for loop\n",
        "for i in range(MaxTicketsAvailable):\n",
        "    p.append(input(\"Enter participants names\")) \n",
        "n=random.randint(0,MaxTicketsAvailable-1)\n",
        "print(\"The winner of the lottery is \",p[n])\n"
      ],
      "execution_count": 27,
      "outputs": [
        {
          "output_type": "stream",
          "text": [
            "Enter no of lottery tickets available  4\n",
            "Enter participants names pavi\n",
            "Enter participants names vaishu\n",
            "Enter participants names sree\n",
            "Enter participants names ramya\n",
            "The winner of the lottery is   pavi\n"
          ],
          "name": "stdout"
        }
      ]
    },
    {
      "cell_type": "code",
      "metadata": {
        "id": "_iJZeabnt6yq"
      },
      "source": [
        ""
      ],
      "execution_count": null,
      "outputs": []
    }
  ]
}