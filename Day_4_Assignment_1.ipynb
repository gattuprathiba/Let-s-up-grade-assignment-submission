{
  "nbformat": 4,
  "nbformat_minor": 0,
  "metadata": {
    "colab": {
      "name": "Day-4 Assignment -1.ipynb",
      "provenance": [],
      "authorship_tag": "ABX9TyOswStfhHZTzn+NX6oMbaXb",
      "include_colab_link": true
    },
    "kernelspec": {
      "name": "python3",
      "display_name": "Python 3"
    },
    "language_info": {
      "name": "python"
    }
  },
  "cells": [
    {
      "cell_type": "markdown",
      "metadata": {
        "id": "view-in-github",
        "colab_type": "text"
      },
      "source": [
        "<a href=\"https://colab.research.google.com/github/gattuprathiba/Let-s-up-grade-assignment-submission/blob/main/Day_4_Assignment_1.ipynb\" target=\"_parent\"><img src=\"https://colab.research.google.com/assets/colab-badge.svg\" alt=\"Open In Colab\"/></a>"
      ]
    },
    {
      "cell_type": "markdown",
      "metadata": {
        "id": "VWkP-F6uqJSL"
      },
      "source": [
        " #you all are pilots you have to land a plane,the altitude required for landing \n",
        " #a plane is 1000ft,\n",
        " #if it is less than that tell pilot to land the plane\n",
        " #or it more than that but less than 5000ft ask the pilot to come down to 1000ft\n",
        " #else if it is more than 5000ft ask the pilot to go around and try later."
      ]
    },
    {
      "cell_type": "code",
      "metadata": {
        "colab": {
          "base_uri": "https://localhost:8080/"
        },
        "id": "iGBE7gWes3gx",
        "outputId": "0a6b5c6f-93b3-47ea-f65a-605d3480b261"
      },
      "source": [
        "altitude=int(input(\"Enter the altitude in ft : \"))\n",
        "if(altitude<=1000):\n",
        "  print(\"safe to land\")\n",
        "elif(altitude>1000 and altitude<5000):\n",
        "  print(\"Bring down to 1000ft \")\n",
        "else:\n",
        "  print(\"Turn around\")"
      ],
      "execution_count": 6,
      "outputs": [
        {
          "output_type": "stream",
          "text": [
            "Enter the altitude in ft :  4500\n",
            "Bring down to 1000ft \n"
          ],
          "name": "stdout"
        }
      ]
    },
    {
      "cell_type": "code",
      "metadata": {
        "id": "cOlfjWg1syjI"
      },
      "source": [
        ""
      ],
      "execution_count": null,
      "outputs": []
    }
  ]
}