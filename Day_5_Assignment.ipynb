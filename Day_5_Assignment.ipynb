{
  "nbformat": 4,
  "nbformat_minor": 0,
  "metadata": {
    "colab": {
      "name": "Day-5 Assignment.ipynb",
      "provenance": [],
      "authorship_tag": "ABX9TyPXmwrRcS/qba7gZXVBiMTK",
      "include_colab_link": true
    },
    "kernelspec": {
      "name": "python3",
      "display_name": "Python 3"
    },
    "language_info": {
      "name": "python"
    }
  },
  "cells": [
    {
      "cell_type": "markdown",
      "metadata": {
        "id": "view-in-github",
        "colab_type": "text"
      },
      "source": [
        "<a href=\"https://colab.research.google.com/github/gattuprathiba/Let-s-up-grade-assignment-submission/blob/main/Day_5_Assignment.ipynb\" target=\"_parent\"><img src=\"https://colab.research.google.com/assets/colab-badge.svg\" alt=\"Open In Colab\"/></a>"
      ]
    },
    {
      "cell_type": "markdown",
      "metadata": {
        "id": "gNSB_NsMZT8f"
      },
      "source": [
        "ASSIGNMENT-4\n",
        "\n"
      ]
    },
    {
      "cell_type": "code",
      "metadata": {
        "id": "bNxt4GxkZZlH"
      },
      "source": [
        "#Build a function for finding if a number is prime or not."
      ],
      "execution_count": null,
      "outputs": []
    },
    {
      "cell_type": "code",
      "metadata": {
        "colab": {
          "base_uri": "https://localhost:8080/"
        },
        "id": "J2VeHJMvZk-k",
        "outputId": "1baa8193-46ea-4f51-fe27-07cc6839ed20"
      },
      "source": [
        "def primeNumberorNot(num):\n",
        "  #taking a temporary variable\n",
        "  temp=0\n",
        "  if num>1:\n",
        "    for i in range(2,num):\n",
        "      if (num%i)==0:\n",
        "        temp=1\n",
        "        break\n",
        "  if temp:\n",
        "    print(num,\"is not a prime number \")\n",
        "  else:\n",
        "    print(num,\"is a prime number \")\n",
        "a=int(input(\" Enter a positive number: \"))\n",
        "primeNumberorNot(a)\n"
      ],
      "execution_count": 17,
      "outputs": [
        {
          "output_type": "stream",
          "text": [
            " Enter a positive number:  9\n",
            "9 is not a prime number \n"
          ],
          "name": "stdout"
        }
      ]
    },
    {
      "cell_type": "markdown",
      "metadata": {
        "id": "T4jjYsrDcTw4"
      },
      "source": [
        "ASSIGNMENT-5"
      ]
    },
    {
      "cell_type": "code",
      "metadata": {
        "id": "lOpjh0w3cXiF"
      },
      "source": [
        "#Build youtube video downloader app using library in python refer pypi.org "
      ],
      "execution_count": null,
      "outputs": []
    },
    {
      "cell_type": "code",
      "metadata": {
        "id": "dEu2rRjxcqVE"
      },
      "source": [
        ""
      ],
      "execution_count": null,
      "outputs": []
    }
  ]
}